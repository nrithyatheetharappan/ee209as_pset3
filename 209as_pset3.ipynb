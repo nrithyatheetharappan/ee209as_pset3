{
 "cells": [
  {
   "cell_type": "code",
   "execution_count": 30,
   "metadata": {},
   "outputs": [
    {
     "name": "stdout",
     "output_type": "stream",
     "text": [
      "1 1 1\n",
      "2 2 2\n",
      "3 3 3\n"
     ]
    }
   ],
   "source": [
    "\n"
   ]
  },
  {
   "cell_type": "code",
   "execution_count": 6,
   "metadata": {},
   "outputs": [
    {
     "name": "stdout",
     "output_type": "stream",
     "text": [
      "-0.9999987317275395\n"
     ]
    }
   ],
   "source": [
    "#IMPORTS\n",
    "import numpy as np\n",
    "import math\n",
    "print()"
   ]
  },
  {
   "cell_type": "code",
   "execution_count": null,
   "metadata": {},
   "outputs": [],
   "source": [
    "#Common functions\n",
    "def find_F_t(F_t,theta_t, v_t):\n",
    "    F_t[1][0] = -1 * v_t * math.sin(theta_t) * dt\n",
    "    F_t[2][0] =  v_t * math.cos(theta_t) * dt\n",
    "    F_t[0][0],F_t[1][1],F_t[2][2] = 1,1,1\n",
    "    return F_t\n",
    "\n",
    "def find_W_t(W_t,theta_t):\n",
    "    W_t[1][1] = math.cos(theta_t) * dt\n",
    "    W_t[2][1] = math.sin(theta_t) * dt\n",
    "    W_t[0][0]= dt\n",
    "    return W_t\n",
    "\n",
    "def find_H_t(H_t,,observation,estimated_state,landmark_values):\n",
    "    #unpack values\n",
    "    x_t = estimated_state[0][0]\n",
    "    y_t = estimated_state[1][0]\n",
    "    x_l = landmark_values[0][0]\n",
    "    y_l = landmark_values[1][0]\n",
    "    d = observation[0][0]\n",
    "    H_t[0][0] = (x_t - x_l)/d\n",
    "    H_t[0][1] = (y_t - y_l)/d\n",
    "    H_t[1][0]= -1 * ((y_t - y_l)/(d*d))\n",
    "    H_t[1][1]= (x_t - x_l)/(d*d)\n",
    "    H_t[1][2] = -1\n",
    "    return H_t\n",
    "    "
   ]
  },
  {
   "cell_type": "code",
   "execution_count": null,
   "metadata": {},
   "outputs": [],
   "source": [
    "#TIME UPDATE BLLOCK\n",
    "def time_propogation_update(measurement_values, estimated_state):\n",
    "    # measurement_values and estimated values are numpy arrays\n",
    "    #the ones with the bar, previous estimated values or prev finalized values?\n",
    "    x_t = estimated_state[0][0]\n",
    "    y_t = estimated_state[1][0]\n",
    "    theta_t = estimated_state[2][0]\n",
    "    \n",
    "    v_t = measurement_value[0][0]\n",
    "    omega_t = measurement_value[1][0]\n",
    "    \n",
    "    mean_value = np.array((3,1))\n",
    "    \n",
    "    theta_t_plus_one = theta_t + omega_t * dt\n",
    "    x_t_plus_one = x_t + v_t* math.cos(omega_t) * dt\n",
    "    y_t_plus_one = y_t + v_t * math.cos(omega_t) * dt\n",
    "    \n",
    "    mean_value = [theta_t_plus_one, x_t_plus_one, y_t_plus_one]\n",
    "    return mean_value\n",
    "    \n"
   ]
  },
  {
   "cell_type": "code",
   "execution_count": null,
   "metadata": {},
   "outputs": [],
   "source": [
    "#TIME LINEARIZATION\n",
    "def time_linearization(estimated_state):\n",
    "    #move initializations out of the funtions\n",
    "    F_t = np.zeros((3,3))\n",
    "    F_t = find_F_t(F_t,theta_t, v_t)\n",
    "    W_t = np.zeros((3,2))\n",
    "    W_t = find_W_t(W_t, theta_t)\n",
    "    #noise_matrix = some guassian\n",
    "    linearized_matrix = np.dot(F_t,estimated_state) + np.dot(W_t,noise_matrix)\n",
    "    return linearized_matrix\n",
    "    \n",
    "    "
   ]
  },
  {
   "cell_type": "code",
   "execution_count": null,
   "metadata": {},
   "outputs": [],
   "source": [
    "#COVARIANCE UPDATE\n",
    "def covariance_update(sigma_t):\n",
    "    sigma_t_plus_one_temp = np.dot(F_t,sigma_t)\n",
    "    sigma_t_plus_one_temp = np.dot(sigma_t_plus_one_temp,F_t.transpose())\n",
    "    #Q\n",
    "    sigma_t_plus_one_temp1 = np.dot(W_t,Q)\n",
    "    sigma_t_plus_one_temp1 = np.dot(sigma_t_plus_one_temp1,W_t.transpose())\n",
    "    sigma_t_plus_one = sigma_t_plus_one_temp + sigma_t_plus_one_temp1\n",
    "    return sigma_t_plus_one"
   ]
  },
  {
   "cell_type": "code",
   "execution_count": null,
   "metadata": {},
   "outputs": [],
   "source": [
    "#observation model"
   ]
  },
  {
   "cell_type": "code",
   "execution_count": null,
   "metadata": {},
   "outputs": [],
   "source": [
    "def observation_linearization():\n",
    "    H_t = np.zeros((2,3))\n",
    "    H_t = find_H_t(H_t,observation,estimated_state,landmark_values)\n",
    "    np.dot(H_t,estimated_state) + velocities? "
   ]
  },
  {
   "cell_type": "code",
   "execution_count": null,
   "metadata": {},
   "outputs": [],
   "source": [
    "def kalman_gain(observation,sigma_t_plus_one,estimated_state,landmark_values):\n",
    "    #R = expectation of measurement noise\n",
    "    #estimated state or linearizered matrix?\n",
    "    #unpack values\n",
    "    #use H_t from linearization?\n",
    "    H_t = np.zeros((2,3))\n",
    "    H_t = find_H_t(H_t,observation,estimated_state,landmark_values)\n",
    "    inner_temp = np.dot(H_t,sigma_t_plus_one)\n",
    "    inner_temp = np.dot(inner_temp,H_t.transpose())\n",
    "    inner_temp = inner_temp + R\n",
    "    inner_temp = np.linalg.inv(inner_temp)\n",
    "    outer_temp = np.dot(sigma_t_plus_one,H_t.transpose())\n",
    "    gain = np.dot(inner_temp, outer_temp)in\n",
    "    return ga"
   ]
  },
  {
   "cell_type": "code",
   "execution_count": null,
   "metadata": {},
   "outputs": [],
   "source": [
    "#error calculation block"
   ]
  },
  {
   "cell_type": "code",
   "execution_count": null,
   "metadata": {},
   "outputs": [],
   "source": [
    "#observation update\n",
    "def observation_update(linearized_matrix,kalman_gain,error):\n",
    "    temp_product = np.dot(kalman_gain,error)\n",
    "    updated_state = linearized_matrix + temp_product\n",
    "    return updated_state"
   ]
  },
  {
   "cell_type": "code",
   "execution_count": null,
   "metadata": {},
   "outputs": [],
   "source": [
    "#covariace observation update\n",
    "def covariance_observation_update(kalman_gain, sigma_t_plus_one):\n",
    "    #take Ht out?\n",
    "    inner_product = np.dot(kalman_gain,H_t)\n",
    "    inner_product = np.dot(inner_product,sigma_t_plus_one)\n",
    "    updated_covariance = sigma_t_plus_one - inner_product\n",
    "    return updated_covariance"
   ]
  },
  {
   "cell_type": "code",
   "execution_count": null,
   "metadata": {},
   "outputs": [],
   "source": [
    "\n",
    "mean_value = time_propogation_update(measurement_values, estimated_state)"
   ]
  },
  {
   "cell_type": "code",
   "execution_count": null,
   "metadata": {},
   "outputs": [],
   "source": [
    "#simulation block\n",
    "def get_simulation(r,phi_1,phi_2):\n",
    "    #change standard deviation\n",
    "    #make them global? thetas?\n",
    "    # get t.. t = t + something?\n",
    "    w_omega_t = np.random.normal(0,1)\n",
    "    w_v_t = np.random.normal(0,1)\n",
    "    w_t = ((r*phi_1) - (r*phi_2))/2\n",
    "    v_t = ((r*phi_1) + (r*phi_2))/2\n",
    "    #time evolution\n",
    "    theta_t_plus_one_measured = theta_t_measured + ((w_t + w_omega_t) * dt)\n",
    "    x_t_plus_one_measured = x_t_measured + ((v_t + w_v_t) * math.cos(theta_t_measured) * dt)\n",
    "    y_t_plus_one_measured = y_t_measured + ((v_t + w_v_t) * math.sin(theta_t_measured) * dt)\n",
    "    return\n",
    "    \n",
    "        \n",
    "    "
   ]
  }
 ],
 "metadata": {
  "kernelspec": {
   "display_name": "Python 3",
   "language": "python",
   "name": "python3"
  },
  "language_info": {
   "codemirror_mode": {
    "name": "ipython",
    "version": 3
   },
   "file_extension": ".py",
   "mimetype": "text/x-python",
   "name": "python",
   "nbconvert_exporter": "python",
   "pygments_lexer": "ipython3",
   "version": "3.6.4"
  }
 },
 "nbformat": 4,
 "nbformat_minor": 2
}
